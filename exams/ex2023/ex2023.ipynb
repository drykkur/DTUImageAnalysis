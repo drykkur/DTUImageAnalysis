{
 "cells": [
  {
   "cell_type": "code",
   "execution_count": 65,
   "metadata": {},
   "outputs": [],
   "source": [
    "from skimage import color, io\n",
    "import matplotlib.pyplot as plt\n",
    "import numpy as np\n",
    "import pydicom as dicom\n",
    "from skimage.morphology import erosion, dilation, binary_erosion, binary_dilation\n",
    "from skimage.morphology import disk\n",
    "from skimage.morphology import square\n",
    "from skimage.filters import prewitt\n",
    "from skimage.filters import median\n",
    "from skimage import segmentation\n",
    "from skimage import measure\n",
    "import math\n",
    "from scipy.stats import norm\n",
    "import pandas as pd\n",
    "import seaborn as sns\n",
    "from skimage.transform import rescale, resize\n",
    "from skimage import color, data, io, morphology, measure, segmentation, img_as_ubyte\n",
    "from skimage.filters import threshold_otsu\n",
    "from skimage.filters import gaussian\n",
    "from skimage.color import label2rgb\n",
    "from scipy.spatial import distance\n",
    "from skimage.transform import rotate\n",
    "from skimage.transform import EuclideanTransform\n",
    "from skimage.transform import SimilarityTransform\n",
    "from skimage.transform import warp\n",
    "from skimage.transform import swirl\n",
    "from skimage.transform import matrix_transform\n",
    "import glob\n",
    "from sklearn.decomposition import PCA\n",
    "import random\n",
    "from skimage.util import compare_images"
   ]
  },
  {
   "cell_type": "code",
   "execution_count": 15,
   "metadata": {},
   "outputs": [
    {
     "name": "stdout",
     "output_type": "stream",
     "text": [
      "107.45075421472937 107.56182572614108\n",
      "51.7968823111612 100.87099317992372\n",
      "0.782588123964987\n"
     ]
    }
   ],
   "source": [
    "in_dir = \"data/abdominal/\"\n",
    "im_name = \"1-166.dcm\"\n",
    "ct = dicom.read_file(in_dir + im_name)\n",
    "img = ct.pixel_array\n",
    "kidney_l_roi = io.imread(in_dir + 'kidneyROI_l.png')\n",
    "maskl = kidney_l_roi > 0\n",
    "kidney_r_roi = io.imread(in_dir + 'kidneyROI_r.png')\n",
    "maskr = kidney_r_roi > 0\n",
    "kidneyl = img[maskl]\n",
    "kidneyr = img[maskr]\n",
    "mul, stl = norm.fit(kidneyl)\n",
    "mur, stdr = norm.fit(kidneyr)\n",
    "print(mul,mur)\n",
    "liver_roi = io.imread(in_dir + 'LiverROI.png')\n",
    "livmask = liver_roi > 0\n",
    "liver = img[livmask]\n",
    "muliver, stliver = norm.fit(liver)\n",
    "t_1 = muliver - stliver\n",
    "t_2 = muliver + stliver\n",
    "binimg = (t_1 < img) & (img < t_2)\n",
    "\n",
    "def spleen_finder(img, t_1, t_2):\n",
    "    estimate = (img > t_1) & (img < t_2)\n",
    "    footprint = disk(3)\n",
    "    dilated = dilation(estimate, footprint)\n",
    "    footprint = disk(10)\n",
    "    eroded = erosion(dilated,footprint)\n",
    "    footprint = disk(10)\n",
    "    dilatedagain = dilation(eroded, footprint)\n",
    "    label_img = measure.label(dilatedagain)\n",
    "    region_props = measure.regionprops(label_img)\n",
    "    min_area = 1500\n",
    "    max_area = 7000\n",
    "    min_perim = 300\n",
    "    #max_perim = 350\n",
    "    label_img_filter = label_img.copy()\n",
    "    for region in region_props:\n",
    "        crit1 = region.area > max_area or region.area < min_area\n",
    "        crit2 = region.perimeter < min_perim\n",
    "        if crit1 or crit2:\n",
    "            for cords in region.coords:\n",
    "                label_img_filter[cords[0], cords[1]] = 0\n",
    "    i_area = label_img_filter > 0\n",
    "    return i_area\n",
    "i_liver = spleen_finder(img,t_1,t_2)\n",
    "gt_bin = liver_roi > 0\n",
    "dice_score = 1 - distance.dice(i_liver.ravel(), gt_bin.ravel())\n",
    "print(t_1,t_2)\n",
    "print(dice_score)"
   ]
  },
  {
   "cell_type": "code",
   "execution_count": 27,
   "metadata": {},
   "outputs": [
    {
     "name": "stdout",
     "output_type": "stream",
     "text": [
      "0.017772281053790966\n",
      "[45.42956891 63.41966621 76.06912559]\n",
      "0.034909704166959016\n",
      "1.1211053359943872\n"
     ]
    }
   ],
   "source": [
    "glass_data = np.loadtxt('data/GlassPCA/glass_data.txt',skiprows=1)\n",
    "glass_data = glass_data - np.mean(glass_data, axis = 0)\n",
    "mins = np.min(glass_data, axis=0)\n",
    "maxes = np.max(glass_data, axis=0)\n",
    "difr = maxes-mins\n",
    "glass_data = glass_data / difr\n",
    "\n",
    "c_x = np.cov(glass_data.T)\n",
    "\n",
    "values, vectors = np.linalg.eig(c_x)\n",
    "\n",
    "v_norm = values / values.sum() * 100\n",
    "\n",
    "print(c_x[0,0])\n",
    "print(v_norm[:3].cumsum())\n",
    "print(glass_data[0,1])\n",
    "\n",
    "transformed = vectors.T.dot(glass_data.T)\n",
    "absshit = np.abs(transformed)\n",
    "print(np.max(absshit))"
   ]
  },
  {
   "cell_type": "code",
   "execution_count": 40,
   "metadata": {},
   "outputs": [
    {
     "name": "stdout",
     "output_type": "stream",
     "text": [
      "[[ 0.98480775 -0.17364818  0.          0.        ]\n",
      " [ 0.15038373  0.85286853 -0.5         0.        ]\n",
      " [ 0.08682409  0.49240388  0.8660254   0.        ]\n",
      " [ 0.          0.          0.          1.        ]]\n"
     ]
    }
   ],
   "source": [
    "def rotation_matrix(pitch, roll, yaw, deg = True):\n",
    "    \"\"\"\n",
    "    Return the rotation matrix associated with the Euler angles roll, pitch, yaw.\n",
    "    \n",
    "    Parameters\n",
    "    ----------\n",
    "    pitch : float\n",
    "        The rotation angle around the x-axis.\n",
    "    roll : float\n",
    "        The rotation angle around the y-axis.\n",
    "    yaw : float\n",
    "        The rotation angle around the z-axis.\n",
    "    deg : bool, optional\n",
    "        If True, the angles are given in degrees. If False, the angles are given\n",
    "        in radians. Default: False.\n",
    "    \"\"\"\n",
    "    if deg:\n",
    "        roll = np.deg2rad(roll)\n",
    "        pitch = np.deg2rad(pitch)\n",
    "        yaw = np.deg2rad(yaw)\n",
    "\n",
    "    R_x = np.array([[1, 0,             0,             0],\n",
    "                    [0, np.cos(pitch),  -np.sin(pitch),  0],\n",
    "                    [0, np.sin(pitch), np.cos(pitch),  0],\n",
    "                    [0, 0,             0,             1]])\n",
    "\n",
    "    R_y = np.array([[np.cos(roll), 0, np.sin(roll), 0],\n",
    "                    [0, 1, 0, 0],\n",
    "                    [-np.sin(roll), 0, np.cos(roll), 0],\n",
    "                    [0, 0, 0, 1]])\n",
    "\n",
    "    R_z = np.array([[np.cos(yaw),  -np.sin(yaw), 0, 0],\n",
    "                    [np.sin(yaw), np.cos(yaw),  0, 0],\n",
    "                    [0, 0, 1, 0],\n",
    "                    [0, 0, 0, 1]])\n",
    "\n",
    "    R = np.dot(np.dot(R_x, R_y), R_z)\n",
    "\n",
    "    return R\n",
    "pitch_radians = 30 * math.pi / 180\n",
    "rot_matrix = rotation_matrix(30, 0, 10)\n",
    "print(rot_matrix)"
   ]
  },
  {
   "cell_type": "code",
   "execution_count": 48,
   "metadata": {},
   "outputs": [
    {
     "name": "stdout",
     "output_type": "stream",
     "text": [
      "58979\n"
     ]
    },
    {
     "data": {
      "image/png": "[encoded data removed]",
      "text/plain": [
       "<Figure size 432x288 with 1 Axes>"
      ]
     },
     "metadata": {
      "needs_background": "light"
     },
     "output_type": "display_data"
    }
   ],
   "source": [
    "boxes = io.imread('data/nike.png')\n",
    "hsvbox = color.rgb2hsv(boxes)\n",
    "boxhue = hsvbox[:,:,0]\n",
    "binhue = (boxhue > 0.3) & (boxhue < 0.7)\n",
    "footprint = disk(8)\n",
    "dilated = dilation(binhue,footprint)\n",
    "print(dilated.sum())\n",
    "io.imshow(dilated)\n",
    "io.show()"
   ]
  },
  {
   "cell_type": "code",
   "execution_count": 64,
   "metadata": {},
   "outputs": [
    {
     "name": "stdout",
     "output_type": "stream",
     "text": [
      "Scale 0.8327055808649092\n",
      "Landmark alignment error F: 10650\n",
      "Aligned landmark alignment error F: 373.01770826994516\n",
      "Answer: alignment error change: 10277\n",
      "26\n"
     ]
    }
   ],
   "source": [
    "shoe1 = io.imread('data/LMRegistration/shoe_1.png')\n",
    "shoe2 = io.imread('data/LMRegistration/shoe_2.png')\n",
    "src = np.array([[40,320],[425,120],[740,330]])\n",
    "dst = np.array([[80,320],[380,155],[670,300]])\n",
    "tform = SimilarityTransform()\n",
    "tform.estimate(src,dst)\n",
    "print(f'Scale {tform.scale}')\n",
    "\n",
    "e_x = src[:, 0] - dst[:, 0]\n",
    "error_x = np.dot(e_x, e_x)\n",
    "e_y = src[:, 1] - dst[:, 1]\n",
    "error_y = np.dot(e_y, e_y)\n",
    "f = error_x + error_y\n",
    "print(f\"Landmark alignment error F: {f}\")\n",
    "\n",
    "src_transform = matrix_transform(src,tform.params)\n",
    "e_x = src_transform[:, 0] - dst[:, 0]\n",
    "error_x = np.dot(e_x, e_x)\n",
    "e_y = src_transform[:, 1] - dst[:, 1]\n",
    "error_y = np.dot(e_y, e_y)\n",
    "f_after = error_x + error_y\n",
    "print(f\"Aligned landmark alignment error F: {f_after}\")\n",
    "print(f\"Answer: alignment error change: {f - f_after:.0f}\")\n",
    "\n",
    "warped = warp(shoe1,tform.inverse)\n",
    "val1 = img_as_ubyte(shoe2)\n",
    "val2 = img_as_ubyte(warped)\n",
    "print(val1[200,200,2] - val2[200,200,2])"
   ]
  },
  {
   "cell_type": "code",
   "execution_count": 70,
   "metadata": {},
   "outputs": [
    {
     "name": "stdout",
     "output_type": "stream",
     "text": [
      "25764\n",
      "0.602417740972549\n"
     ]
    }
   ],
   "source": [
    "bg = io.imread('data/ChangeDetection/background.png')\n",
    "nf = io.imread('data/ChangeDetection/new_frame.png')\n",
    "graybg = color.rgb2gray(bg)\n",
    "graynf = color.rgb2gray(nf)\n",
    "newbg = 0.9 * graybg + (1 - 0.9) * graynf\n",
    "difference = compare_images(newbg, graynf, method='diff')\n",
    "dif_thres = 0.1\n",
    "newbin = difference > 0.1\n",
    "print(newbin.sum())\n",
    "print(np.mean(newbg[150:200,150:200]))"
   ]
  },
  {
   "cell_type": "code",
   "execution_count": 73,
   "metadata": {},
   "outputs": [
    {
     "name": "stdout",
     "output_type": "stream",
     "text": [
      "36073\n",
      "0.44944431372549015\n"
     ]
    },
    {
     "data": {
      "image/png": "[encoded data removed]",
      "text/plain": [
       "<Figure size 432x288 with 1 Axes>"
      ]
     },
     "metadata": {
      "needs_background": "light"
     },
     "output_type": "display_data"
    }
   ],
   "source": [
    "letters = io.imread('data/Letters/Letters.png')\n",
    "r_comp = letters[:,:,0]\n",
    "g_comp = letters[:,:,1]\n",
    "b_comp = letters[:,:,2]\n",
    "binletters = (r_comp > 100) & (g_comp < 100) & (b_comp <100)\n",
    "footprint = disk(3)\n",
    "eroded = erosion(binletters,footprint)\n",
    "print(eroded.sum())\n",
    "lettersg = color.rgb2gray(letters)\n",
    "size = 8\n",
    "footprint = np.ones([size, size])\n",
    "med_img = median(lettersg, footprint)\n",
    "print(med_img[100,100])\n",
    "def letter_finder(img):\n",
    "    label_img = measure.label(img)\n",
    "    region_props = measure.regionprops(label_img)\n",
    "    min_area = 1000\n",
    "    max_area = 4000\n",
    "    min_perim = 300\n",
    "    #max_perim = 350\n",
    "    label_img_filter = label_img.copy()\n",
    "    for region in region_props:\n",
    "        crit1 = region.area > max_area or region.area < min_area\n",
    "        crit2 = region.perimeter < min_perim\n",
    "        if crit1 or crit2:\n",
    "            for cords in region.coords:\n",
    "                label_img_filter[cords[0], cords[1]] = 0\n",
    "    i_area = label_img_filter > 0\n",
    "    return i_area\n",
    "i_letters = letter_finder(eroded)\n",
    "io.imshow(i_letters)\n",
    "io.show()"
   ]
  },
  {
   "cell_type": "code",
   "execution_count": 89,
   "metadata": {},
   "outputs": [
    {
     "data": {
      "text/plain": [
       "4.3478260869565215"
      ]
     },
     "execution_count": 89,
     "metadata": {},
     "output_type": "execute_result"
    }
   ],
   "source": [
    "1000 / 230"
   ]
  },
  {
   "cell_type": "code",
   "execution_count": 96,
   "metadata": {},
   "outputs": [
    {
     "data": {
      "text/plain": [
       "24.0"
      ]
     },
     "execution_count": 96,
     "metadata": {},
     "output_type": "execute_result"
    }
   ],
   "source": [
    "((1600 * 800 * 24) /  8000000) * 6.25"
   ]
  },
  {
   "cell_type": "code",
   "execution_count": 128,
   "metadata": {},
   "outputs": [
    {
     "name": "stdout",
     "output_type": "stream",
     "text": [
      "[0.23082787 0.13933354 0.12320351 0.11333118 0.10713935]\n",
      "data/PizzaPCA/training\\FindTheOlives.png data/PizzaPCA/training\\BigSausage.png\n",
      "data/PizzaPCA/training\\GreenHam.png\n"
     ]
    },
    {
     "data": {
      "image/png": "[encoded data removed]",
      "text/plain": [
       "<Figure size 432x288 with 1 Axes>"
      ]
     },
     "metadata": {
      "needs_background": "light"
     },
     "output_type": "display_data"
    }
   ],
   "source": [
    "def create_u_byte_image_from_vector(im_vec, height, width, channels):\n",
    "    min_val = im_vec.min()\n",
    "    max_val = im_vec.max()\n",
    "\n",
    "    # Transform to [0, 1]\n",
    "    im_vec = np.subtract(im_vec, min_val)\n",
    "    im_vec = np.divide(im_vec, max_val - min_val)\n",
    "    im_vec = im_vec.reshape(height, width, channels)\n",
    "    im_out = img_as_ubyte(im_vec)\n",
    "    return im_out\n",
    "\n",
    "files = glob.glob(\"data/PizzaPCA/training/*.png\")\n",
    "height, width, channels = io.imread(files[0]).shape\n",
    "data_matrix = np.zeros((len(files), height * width * channels))\n",
    "for i, f in enumerate(files):\n",
    "    data_matrix[i, :] = io.imread(f).flatten()\n",
    "meanza = np.mean(data_matrix, axis=0)\n",
    "meanimg = create_u_byte_image_from_vector(meanza,height,width,channels)\n",
    "io.imshow(meanimg)\n",
    "cats_pca = PCA(n_components=5)\n",
    "cats_pca.fit(data_matrix)\n",
    "\n",
    "sub_data = data_matrix - meanimg.flatten()\n",
    "sub_distances = np.linalg.norm(sub_data, axis=1)\n",
    "funkyslice = np.argmax(sub_distances)\n",
    "files[funkyslice]\n",
    "print(cats_pca.explained_variance_ratio_)\n",
    "components = cats_pca.transform(data_matrix)\n",
    "#print(components[0])\n",
    "plt.scatter(components[:,0],components[:,1])\n",
    "\n",
    "p1 = np.argmin(components[:,0])\n",
    "p2 = np.argmax(components[:,0])\n",
    "print(files[p1],files[p2])\n",
    "dtuslice = io.imread('data/PizzaPCA/super_pizza.png')\n",
    "dtuslice = dtuslice.flatten()\n",
    "dtuslice = dtuslice.reshape(1,-1)\n",
    "dtuproj = cats_pca.transform(dtuslice)\n",
    "comp_sub = components - dtuproj.flatten()\n",
    "pca_distances = np.linalg.norm(comp_sub, axis=1)\n",
    "whichpizze = np.argmin(pca_distances)\n",
    "print(files[whichpizze])"
   ]
  },
  {
   "cell_type": "code",
   "execution_count": 139,
   "metadata": {},
   "outputs": [
    {
     "name": "stdout",
     "output_type": "stream",
     "text": [
      "0.2579967948717949\n",
      "0.419921875\n"
     ]
    }
   ],
   "source": [
    "img = io.imread('data/GeomTrans/lights.png')\n",
    "rotation_angle = 11\n",
    "rot_center = [40, 40]\n",
    "rotated_img = rotate(img, rotation_angle, center=rot_center)\n",
    "rotated_gray = color.rgb2gray(rotated_img)\n",
    "thres = threshold_otsu(rotated_gray)\n",
    "bin = rotated_gray > thres\n",
    "print(bin.sum() / (bin.shape[0] * bin.shape[1]))\n",
    "print(thres)"
   ]
  },
  {
   "cell_type": "code",
   "execution_count": 137,
   "metadata": {},
   "outputs": [
    {
     "data": {
      "text/plain": [
       "800"
      ]
     },
     "execution_count": 137,
     "metadata": {},
     "output_type": "execute_result"
    }
   ],
   "source": [
    "bin.shape[1]"
   ]
  }
 ],
 "metadata": {
  "kernelspec": {
   "display_name": "base",
   "language": "python",
   "name": "python3"
  },
  "language_info": {
   "codemirror_mode": {
    "name": "ipython",
    "version": 3
   },
   "file_extension": ".py",
   "mimetype": "text/x-python",
   "name": "python",
   "nbconvert_exporter": "python",
   "pygments_lexer": "ipython3",
   "version": "3.9.12"
  }
 },
 "nbformat": 4,
 "nbformat_minor": 2
}
