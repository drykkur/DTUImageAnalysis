{
 "cells": [
  {
   "cell_type": "code",
   "execution_count": 1,
   "metadata": {},
   "outputs": [],
   "source": [
    "import math"
   ]
  },
  {
   "cell_type": "code",
   "execution_count": 4,
   "metadata": {},
   "outputs": [
    {
     "name": "stdout",
     "output_type": "stream",
     "text": [
      "16.69924423399362\n"
     ]
    }
   ],
   "source": [
    "#ex 1\n",
    "b = 3\n",
    "a = 10\n",
    "theta = math.atan2(b,a)\n",
    "theta_deg = theta*180/math.pi\n",
    "print(theta_deg)"
   ]
  },
  {
   "cell_type": "code",
   "execution_count": 6,
   "metadata": {},
   "outputs": [
    {
     "name": "stdout",
     "output_type": "stream",
     "text": [
      "0.01764705882352941\n",
      "0.015228426395939085\n",
      "0.015045135406218655\n",
      "0.015015015015015013\n"
     ]
    }
   ],
   "source": [
    "#ex 2\n",
    "def camera_b_distance(f,g):\n",
    "    b = 1 / (1/f - 1/g)\n",
    "    return b\n",
    "focal = 15e-3\n",
    "print(camera_b_distance(focal,0.1))\n",
    "print(camera_b_distance(focal,1))\n",
    "print(camera_b_distance(focal,5))\n",
    "print(camera_b_distance(focal,15))"
   ]
  },
  {
   "cell_type": "code",
   "execution_count": 11,
   "metadata": {},
   "outputs": [
    {
     "name": "stdout",
     "output_type": "stream",
     "text": [
      "1.  0.005005005005005005\n",
      "2.  1.8018018018018016\n"
     ]
    }
   ],
   "source": [
    "#ex 3\n",
    "lensdist = camera_b_distance(5e-3,5)\n",
    "\n",
    "print('1. ', lensdist)\n",
    "print('2. ', lensdist*(1.8/5)*1e3)\n",
    "print('3. ')"
   ]
  }
 ],
 "metadata": {
  "kernelspec": {
   "display_name": "base",
   "language": "python",
   "name": "python3"
  },
  "language_info": {
   "codemirror_mode": {
    "name": "ipython",
    "version": 3
   },
   "file_extension": ".py",
   "mimetype": "text/x-python",
   "name": "python",
   "nbconvert_exporter": "python",
   "pygments_lexer": "ipython3",
   "version": "3.9.12"
  }
 },
 "nbformat": 4,
 "nbformat_minor": 2
}
