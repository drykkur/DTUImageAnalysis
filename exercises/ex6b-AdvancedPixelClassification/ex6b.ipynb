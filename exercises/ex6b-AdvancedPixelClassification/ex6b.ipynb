{
 "cells": [
  {
   "cell_type": "code",
   "execution_count": 1,
   "metadata": {},
   "outputs": [],
   "source": [
    "import numpy as np\n",
    "import matplotlib.pyplot as plt\n",
    "import scipy.io as sio"
   ]
  },
  {
   "cell_type": "code",
   "execution_count": 2,
   "metadata": {},
   "outputs": [],
   "source": [
    "in_dir = 'data/'\n",
    "in_file = 'ex6_ImagData2Load.mat'\n",
    "data = sio.loadmat(in_dir + in_file)\n",
    "ImgT1 = data['ImgT1']\n",
    "ImgT2 = data['ImgT2']\n",
    "ROI_GM = data['ROI_GM'].astype(bool)\n",
    "ROI_WM = data['ROI_WM'].astype(bool)"
   ]
  }
 ],
 "metadata": {
  "kernelspec": {
   "display_name": "base",
   "language": "python",
   "name": "python3"
  },
  "language_info": {
   "codemirror_mode": {
    "name": "ipython",
    "version": 3
   },
   "file_extension": ".py",
   "mimetype": "text/x-python",
   "name": "python",
   "nbconvert_exporter": "python",
   "pygments_lexer": "ipython3",
   "version": "3.9.12"
  }
 },
 "nbformat": 4,
 "nbformat_minor": 2
}
